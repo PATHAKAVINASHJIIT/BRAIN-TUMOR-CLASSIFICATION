{
 "cells": [
  {
   "cell_type": "code",
   "execution_count": 5,
   "metadata": {},
   "outputs": [],
   "source": [
    "import tensorflow as tf\n",
    "from tensorflow import keras\n",
    "\n",
    "# Load the saved model from disk\n",
    "loaded_model = keras.models.load_model('my_model.h5')"
   ]
  },
  {
   "cell_type": "code",
   "execution_count": 7,
   "metadata": {},
   "outputs": [
    {
     "name": "stdout",
     "output_type": "stream",
     "text": [
      "<PIL.Image.Image image mode=RGB size=150x150 at 0x2074EB08820>\n",
      "Brain-MRI-Classification/Brain-MRI/predict//image(20).jpg\n",
      "1/1 [==============================] - 0s 51ms/step\n",
      "[[0. 1. 0.]]\n",
      "Predicted class: no\n",
      "<PIL.Image.Image image mode=RGB size=150x150 at 0x2074EB08EE0>\n",
      "Brain-MRI-Classification/Brain-MRI/predict//image(21).jpg\n",
      "1/1 [==============================] - 0s 68ms/step\n",
      "[[0. 1. 0.]]\n",
      "Predicted class: no\n",
      "<PIL.Image.Image image mode=RGB size=150x150 at 0x2074EAB8100>\n",
      "Brain-MRI-Classification/Brain-MRI/predict//image(22).jpg\n",
      "1/1 [==============================] - 0s 81ms/step\n",
      "[[0. 1. 0.]]\n",
      "Predicted class: no\n",
      "<PIL.Image.Image image mode=RGB size=150x150 at 0x2074EAB8100>\n",
      "Brain-MRI-Classification/Brain-MRI/predict//image(23).jpg\n",
      "1/1 [==============================] - 0s 63ms/step\n",
      "[[0. 1. 0.]]\n",
      "Predicted class: no\n",
      "<PIL.Image.Image image mode=RGB size=150x150 at 0x2074EB28280>\n",
      "Brain-MRI-Classification/Brain-MRI/predict//image(24).jpg\n",
      "1/1 [==============================] - 0s 54ms/step\n",
      "[[0. 1. 0.]]\n",
      "Predicted class: no\n",
      "<PIL.Image.Image image mode=RGB size=150x150 at 0x2074EA71670>\n",
      "Brain-MRI-Classification/Brain-MRI/predict//image(25).jpg\n",
      "1/1 [==============================] - 0s 83ms/step\n",
      "[[0. 1. 0.]]\n",
      "Predicted class: no\n",
      "<PIL.Image.Image image mode=RGB size=150x150 at 0x2074EB36490>\n",
      "Brain-MRI-Classification/Brain-MRI/predict//image(26).jpg\n",
      "1/1 [==============================] - 0s 60ms/step\n",
      "[[0. 1. 0.]]\n",
      "Predicted class: no\n",
      "<PIL.Image.Image image mode=RGB size=150x150 at 0x2074EB8EDF0>\n",
      "Brain-MRI-Classification/Brain-MRI/predict//image(27).jpg\n",
      "1/1 [==============================] - 0s 43ms/step\n",
      "[[0. 1. 0.]]\n",
      "Predicted class: no\n",
      "<PIL.Image.Image image mode=RGB size=150x150 at 0x2074EA399D0>\n",
      "Brain-MRI-Classification/Brain-MRI/predict//image(28).jpg\n",
      "1/1 [==============================] - 0s 63ms/step\n",
      "[[0. 1. 0.]]\n",
      "Predicted class: no\n",
      "<PIL.Image.Image image mode=RGB size=150x150 at 0x2074EA42DC0>\n",
      "Brain-MRI-Classification/Brain-MRI/predict//image(29).jpg\n",
      "1/1 [==============================] - 0s 101ms/step\n",
      "[[0. 1. 0.]]\n",
      "Predicted class: no\n"
     ]
    }
   ],
   "source": [
    "import numpy as np\n",
    "import tensorflow as tf\n",
    "from keras.preprocessing.image import ImageDataGenerator\n",
    "from tensorflow.keras.utils import load_img, img_to_array\n",
    "import os\n",
    "from keras.preprocessing import image\n",
    "for i in range(0,10):\n",
    "    test_image = tf.keras.utils.load_img('Brain-MRI-Classification/Brain-MRI/predict//'+\n",
    "                                         os.listdir(\"Brain-MRI-Classification/Brain-MRI/predict\")[i], \n",
    "                                                    target_size = (150, 150))\n",
    "    print(test_image)\n",
    "    print('Brain-MRI-Classification/Brain-MRI/predict//'+os.listdir(\"Brain-MRI-Classification/Brain-MRI/predict\")[i])\n",
    "    test_image = tf.keras.utils.img_to_array(test_image)\n",
    "    test_image = np.expand_dims(test_image, axis = 0)\n",
    "    # print(\"Hi \",test_image)\n",
    "    result = loaded_model.predict(test_image)\n",
    "    class_idx = np.argmax(result, axis=1)[0]  # get the index of the predicted class\n",
    "#   print(class_idx)\n",
    "    class_labels = ['gli',  'no', 'pit']  # define your class labels\n",
    "    class_label = class_labels[class_idx]\n",
    "    print(result)\n",
    "    \n",
    "    print('Predicted class:', class_label)"
   ]
  }
 ],
 "metadata": {
  "kernelspec": {
   "display_name": "Python 3.9.12 ('base')",
   "language": "python",
   "name": "python3"
  },
  "language_info": {
   "codemirror_mode": {
    "name": "ipython",
    "version": 3
   },
   "file_extension": ".py",
   "mimetype": "text/x-python",
   "name": "python",
   "nbconvert_exporter": "python",
   "pygments_lexer": "ipython3",
   "version": "3.9.12"
  },
  "orig_nbformat": 4,
  "vscode": {
   "interpreter": {
    "hash": "6f12500a73433e84943095bd0e58d8e4ae657d767958fe9dd078e966fdad064f"
   }
  }
 },
 "nbformat": 4,
 "nbformat_minor": 2
}
